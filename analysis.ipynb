{
 "cells": [
  {
   "cell_type": "markdown",
   "id": "1590f191",
   "metadata": {},
   "source": [
    "This data feed is used in accordance with the usage terms of **buienradar.nl**, which allow free use provided proper attribution is given.  \n",
    "Source: [buienradar.nl](https://www.buienradar.nl/)"
   ]
  },
  {
   "cell_type": "code",
   "execution_count": 33,
   "id": "fd56c077",
   "metadata": {},
   "outputs": [],
   "source": [
    "import polars as pl\n",
    "from src.skilltest.models import Measurement, WeatherStation\n",
    "from src.skilltest.core.analysis import DataFrameConvertor\n",
    "\n",
    "convertor = DataFrameConvertor()\n",
    "measurements_df = convertor.get_dataframe(Measurement)\n",
    "stations_df = convertor.get_dataframe(WeatherStation)\n",
    "df = convertor.get_joined_dataframe(measurements_df, stations_df, on=\"stationid\")"
   ]
  },
  {
   "cell_type": "markdown",
   "id": "803fed1c",
   "metadata": {},
   "source": [
    "#### Question 5: Which weather station recorded the highest temperature?"
   ]
  },
  {
   "cell_type": "code",
   "execution_count": null,
   "id": "17aedcb5",
   "metadata": {},
   "outputs": [
    {
     "name": "stdout",
     "output_type": "stream",
     "text": [
      "Question 5 - Highest Temperature Station:\n",
      "shape: (1, 3)\n",
      "┌────────────────────────┬─────────────┬────────────────────────────┐\n",
      "│ stationname            ┆ temperature ┆ timestamp                  │\n",
      "│ ---                    ┆ ---         ┆ ---                        │\n",
      "│ str                    ┆ f64         ┆ str                        │\n",
      "╞════════════════════════╪═════════════╪════════════════════════════╡\n",
      "│ Meetstation Vlissingen ┆ 20.1        ┆ 2025-08-05 19:40:00.000000 │\n",
      "└────────────────────────┴─────────────┴────────────────────────────┘\n"
     ]
    }
   ],
   "source": [
    "result = df.filter( #type: ignore\n",
    "    pl.col(\"temperature\") == df[\"temperature\"].max()\n",
    ").select([\n",
    "    \"stationname\",\n",
    "    \"temperature\",\n",
    "    \"timestamp\"\n",
    "])\n",
    "\n",
    "print(\"Question 5 - Highest Temperature Station:\")\n",
    "print(result)"
   ]
  },
  {
   "cell_type": "markdown",
   "id": "75d91554",
   "metadata": {},
   "source": [
    "#### Question 6: What is the average temperature?"
   ]
  },
  {
   "cell_type": "code",
   "execution_count": null,
   "id": "3df9afd0",
   "metadata": {},
   "outputs": [
    {
     "name": "stdout",
     "output_type": "stream",
     "text": [
      "Question 6 - Average Temperature: 17.20°C\n"
     ]
    }
   ],
   "source": [
    "avg_temp = df.select(pl.col(\"temperature\").mean())[0, 0]\n",
    "\n",
    "print(f\"Question 6 - Average Temperature: {avg_temp:.2f}°C\")"
   ]
  },
  {
   "cell_type": "markdown",
   "id": "09d5a38d",
   "metadata": {},
   "source": [
    "#### Question 7: What is the station with the biggest difference between feel temperature and the actual temperature?"
   ]
  },
  {
   "cell_type": "code",
   "execution_count": 32,
   "id": "dcf8115a",
   "metadata": {},
   "outputs": [
    {
     "data": {
      "text/html": [
       "<div><style>\n",
       ".dataframe > thead > tr,\n",
       ".dataframe > tbody > tr {\n",
       "  text-align: right;\n",
       "  white-space: pre-wrap;\n",
       "}\n",
       "</style>\n",
       "<small>shape: (1, 6)</small><table border=\"1\" class=\"dataframe\"><thead><tr><th>stationid</th><th>avg_temp_diff</th><th>avg_temperature</th><th>avg_feeltemperature</th><th>stationname</th><th>regio</th></tr><tr><td>i64</td><td>f64</td><td>f64</td><td>f64</td><td>str</td><td>str</td></tr></thead><tbody><tr><td>6290</td><td>2.4</td><td>14.3</td><td>11.9</td><td>&quot;Meetstation Twente&quot;</td><td>&quot;Twente&quot;</td></tr></tbody></table></div>"
      ],
      "text/plain": [
       "shape: (1, 6)\n",
       "┌───────────┬───────────────┬─────────────────┬─────────────────────┬────────────────────┬────────┐\n",
       "│ stationid ┆ avg_temp_diff ┆ avg_temperature ┆ avg_feeltemperature ┆ stationname        ┆ regio  │\n",
       "│ ---       ┆ ---           ┆ ---             ┆ ---                 ┆ ---                ┆ ---    │\n",
       "│ i64       ┆ f64           ┆ f64             ┆ f64                 ┆ str                ┆ str    │\n",
       "╞═══════════╪═══════════════╪═════════════════╪═════════════════════╪════════════════════╪════════╡\n",
       "│ 6290      ┆ 2.4           ┆ 14.3            ┆ 11.9                ┆ Meetstation Twente ┆ Twente │\n",
       "└───────────┴───────────────┴─────────────────┴─────────────────────┴────────────────────┴────────┘"
      ]
     },
     "execution_count": 32,
     "metadata": {},
     "output_type": "execute_result"
    }
   ],
   "source": [
    "df_with_diff = measurements_df.with_columns(\n",
    "    (pl.col(\"feeltemperature\") - pl.col(\"temperature\")).abs().alias(\"temp_diff\") #type: ignore\n",
    ").filter(\n",
    "    pl.col(\"temperature\").is_not_null() &\n",
    "    pl.col(\"feeltemperature\").is_not_null()\n",
    ")\n",
    "avg_diff_by_station = df_with_diff.group_by(\"stationid\").agg([\n",
    "    pl.col(\"temp_diff\").mean().alias(\"avg_temp_diff\"),\n",
    "    pl.col(\"temperature\").mean().alias(\"avg_temperature\"),\n",
    "    pl.col(\"feeltemperature\").mean().alias(\"avg_feeltemperature\")\n",
    "])\n",
    "\n",
    "result_with_names = avg_diff_by_station.join(\n",
    "    stations_df.select([\"stationid\", \"stationname\", \"regio\"]),\n",
    "    on=\"stationid\"\n",
    ").sort(\"avg_temp_diff\", descending=True)\n",
    "\n",
    "result_with_names.head(1)"
   ]
  },
  {
   "cell_type": "markdown",
   "id": "9c6ff228",
   "metadata": {},
   "source": [
    "#### Question 8: Which weather station is located in the North Sea?"
   ]
  },
  {
   "cell_type": "code",
   "execution_count": 31,
   "id": "32f370a2",
   "metadata": {},
   "outputs": [
    {
     "name": "stdout",
     "output_type": "stream",
     "text": [
      "Question 8 - North Sea Station(s):\n",
      "shape: (1, 5)\n",
      "┌───────────┬─────────────────────────────┬───────┬──────┬──────────┐\n",
      "│ stationid ┆ stationname                 ┆ lat   ┆ lon  ┆ regio    │\n",
      "│ ---       ┆ ---                         ┆ ---   ┆ ---  ┆ ---      │\n",
      "│ i64       ┆ str                         ┆ f64   ┆ f64  ┆ str      │\n",
      "╞═══════════╪═════════════════════════════╪═══════╪══════╪══════════╡\n",
      "│ 6239      ┆ Meetstation Zeeplatform F-3 ┆ 54.85 ┆ 4.73 ┆ Noordzee │\n",
      "└───────────┴─────────────────────────────┴───────┴──────┴──────────┘\n"
     ]
    }
   ],
   "source": [
    "result = df.filter( #type: ignore\n",
    "    pl.col(\"regio\").str.contains(\"(?i)noordzee|north sea\") \n",
    "    | pl.col(\"stationname\").str.contains( \n",
    "        \"(?i)platform|zeeplatform|europlatform|k13\"\n",
    "    )\n",
    ").select([\"stationid\", \"stationname\", \"lat\", \"lon\", \"regio\"])\n",
    "\n",
    "print(\"Question 8 - North Sea Station(s):\")\n",
    "print(result)"
   ]
  }
 ],
 "metadata": {
  "kernelspec": {
   "display_name": "skilltest-buienradar (3.10.16)",
   "language": "python",
   "name": "python3"
  },
  "language_info": {
   "codemirror_mode": {
    "name": "ipython",
    "version": 3
   },
   "file_extension": ".py",
   "mimetype": "text/x-python",
   "name": "python",
   "nbconvert_exporter": "python",
   "pygments_lexer": "ipython3",
   "version": "3.10.16"
  }
 },
 "nbformat": 4,
 "nbformat_minor": 5
}
